{
  "nbformat": 4,
  "nbformat_minor": 0,
  "metadata": {
    "colab": {
      "private_outputs": true,
      "provenance": [],
      "include_colab_link": true
    },
    "kernelspec": {
      "name": "python3",
      "display_name": "Python 3"
    },
    "language_info": {
      "name": "python"
    }
  },
  "cells": [
    {
      "cell_type": "markdown",
      "metadata": {
        "id": "view-in-github",
        "colab_type": "text"
      },
      "source": [
        "<a href=\"https://colab.research.google.com/github/sooj36/sooj36/blob/main/%EC%9E%91%EC%97%85%ED%98%95_%EC%A0%9C_1_%EC%9C%A0%ED%98%95_Python_%EC%97%B0%EC%8A%B5%EB%AC%B8%EC%A0%9C.ipynb\" target=\"_parent\"><img src=\"https://colab.research.google.com/assets/colab-badge.svg\" alt=\"Open In Colab\"/></a>"
      ]
    },
    {
      "cell_type": "markdown",
      "source": [
        "# 작업형 제 1 유형(Python) - 연습문제"
      ],
      "metadata": {
        "id": "w2TlHdVca9ym"
      }
    },
    {
      "cell_type": "code",
      "source": [
        "## 사용패키지\n",
        "import pandas as pd\n",
        "import numpy as np"
      ],
      "metadata": {
        "id": "R1WTeoccleo-"
      },
      "execution_count": null,
      "outputs": []
    },
    {
      "cell_type": "code",
      "source": [
        "# from google.colab import files\n",
        "# uploaded = files.upload()"
      ],
      "metadata": {
        "id": "oizlTyzzAFqs"
      },
      "execution_count": null,
      "outputs": []
    },
    {
      "cell_type": "code",
      "source": [
        "from google.colab import drive\n",
        "drive.mount('/content/drive')"
      ],
      "metadata": {
        "id": "NlPpvaGCAB4r"
      },
      "execution_count": null,
      "outputs": []
    },
    {
      "cell_type": "markdown",
      "source": [
        "## Iris Dataset"
      ],
      "metadata": {
        "id": "xuaZhIGjbVDj"
      }
    },
    {
      "cell_type": "markdown",
      "source": [
        "|변수|설명|\n",
        "|--|--|\n",
        "|sepal_length|꽃받침 길이|\n",
        "|sepal_width|꽃받침 너비|\n",
        "|petal_legnth|꽃잎 길이|\n",
        "|petal_width|꽃잎 너비|\n",
        "|species|꽃 종류|"
      ],
      "metadata": {
        "id": "3n8gyZzuEbsx"
      }
    },
    {
      "cell_type": "code",
      "source": [
        "iris = pd.read_csv('/content/drive/MyDrive/Colab Notebooks/Dataset/iris.csv')"
      ],
      "metadata": {
        "id": "3ymVL080DFdD"
      },
      "execution_count": null,
      "outputs": []
    },
    {
      "cell_type": "code",
      "source": [
        "print(iris.head())"
      ],
      "metadata": {
        "id": "rzVLQkR9DFUW"
      },
      "execution_count": null,
      "outputs": []
    },
    {
      "cell_type": "markdown",
      "source": [
        "(1) Iris 데이터 세트에서 Species 변수 값별로 petal_width 상위 25% 값을 구한 후 가장 큰 값과 가장 작은 값 사이의 차이를 계산하시오."
      ],
      "metadata": {
        "id": "kwIRQp2rEdh4"
      }
    },
    {
      "cell_type": "code",
      "source": [
        "print(iris.groupby('species')['petal_width'].quantile(0.75).max() - iris.groupby('species')['petal_width'].quantile(0.75).min())"
      ],
      "metadata": {
        "id": "4jTuOl7JfAQl"
      },
      "execution_count": null,
      "outputs": []
    },
    {
      "cell_type": "markdown",
      "source": [
        "(2) Iris 데이터 셋트에서 sepal_length 변수의 전체 값을 중복 없이 리스트로 만든 후, 오름차순으로 정렬했을 때 리스트의 10번째에 오는 숫자를 계산하시오."
      ],
      "metadata": {
        "id": "EPR_Yi7fCG0O"
      }
    },
    {
      "cell_type": "code",
      "source": [
        "list = iris['sepal_length'].unique().tolist()\n",
        "list.sort()\n",
        "print(list[9])"
      ],
      "metadata": {
        "id": "XjM5vDYBiIUl"
      },
      "execution_count": null,
      "outputs": []
    },
    {
      "cell_type": "markdown",
      "source": [
        "(3) Iris 데이터 셋트에서 sepal_width 변수 값을 내림차순한 후 위에서부터 100번째 값을 확인한 뒤, 확인한 값을 기준으로 데이터를 sepal_width의 표준편차 값을 구한 후 50을 곱한 값을 계산하시오.(단, 최종 개선 전과 후의 소수점 이하 숫자는 버린다.)"
      ],
      "metadata": {
        "id": "LNQTBiyICGs8"
      }
    },
    {
      "cell_type": "markdown",
      "source": [
        "(4) Iris 데이터 셋트에서 species 변수 값을 기반으로 petal_length 상위 10개의 평균 값을 구한 후, 평균값의 합을 계산하시오. (단, 최종 계산 값의 소수점 이하는 반올림한다.)"
      ],
      "metadata": {
        "id": "6gDR5mWDCGln"
      }
    },
    {
      "cell_type": "markdown",
      "source": [
        "(5) Iris 데이터 셋트에서 sepal_length 변수의 이상치를 가지는 데이터를 행 수를 계산하시오. (단, 이상치 범위는 (평균 - 2 * 표준편차) 이하이거나 (평균 + 2 * 표준편차) 이상이어야 한다.)"
      ],
      "metadata": {
        "id": "ex05dXLeCGdH"
      }
    },
    {
      "cell_type": "markdown",
      "source": [
        "## Wine Dataset"
      ],
      "metadata": {
        "id": "7e7_kPeADPRn"
      }
    },
    {
      "cell_type": "markdown",
      "source": [
        "|변수|설명|\n",
        "|--|--|\n",
        "|alcohol|알콜|\n",
        "|malic_acid|말산|\n",
        "|ash|회분|\n",
        "|alcalinity_of_ash|회분의 알칼리도|\n",
        "|magnesium|마그네슘|\n",
        "|total_phenols|폴리페놀 총량|\n",
        "|flavanoids|폴라보노이드 폴리페놀|\n",
        "|nonflavanoid_phenols|비 플라보노이드 폴리페놀|\n",
        "|proanthocyanins|프로안토시아닌|\n",
        "|color_intensity|색상의 강도|\n",
        "|hue|색상|\n",
        "|od280/od315_of_diluted_wines|희석 와인의 OD280/OD315 비율|\n",
        "|proline|프롤린|\n",
        "|class|와인 종류|"
      ],
      "metadata": {
        "id": "vlrIx4UhExkt"
      }
    },
    {
      "cell_type": "code",
      "source": [
        "wine = pd.read_csv('/content/drive/MyDrive/Colab Notebooks/dataset/wine.csv')"
      ],
      "metadata": {
        "id": "lbDF6BumDRV4"
      },
      "execution_count": null,
      "outputs": []
    },
    {
      "cell_type": "code",
      "source": [
        "wine.head()"
      ],
      "metadata": {
        "id": "KDmzFKH1EEIM"
      },
      "execution_count": null,
      "outputs": []
    },
    {
      "cell_type": "markdown",
      "source": [
        "(1) Wine 데이터 세트에서 total_phenols 결측치를 제거하고 alcalinity_of_ash 변수의 결측치는 중앙값으로 대체한 후, alcalinity_of_ash 평균값을 계산하십시오. (단, 최종 계산 값의 소수점 이하를 버린다.)"
      ],
      "metadata": {
        "id": "BG2d44rDGGoc"
      }
    },
    {
      "cell_type": "markdown",
      "source": [
        "(2) Wine 데이터 세트에서 alcohol 값이 alcohol 평균 값 이상이고, color_intensity 값이 color_intensity 평균 값 이상인 데이터만 남겼을 때, 가장 많은 class 값을 구하시오."
      ],
      "metadata": {
        "id": "WkozUGb-GGjO"
      }
    },
    {
      "cell_type": "markdown",
      "source": [
        "(3) Wine 데이터 세트에서 class 1에 해당하는 데이터의 ash 평균값과 Wine 데이터 세트의 모든 결측치를 제거한 후의 ash 값의 평균값의 차이의 절댓값을 계산하시오. (단, 최종 계산 값의 소수점 이하 4번째 자리에서 반올림한다.)"
      ],
      "metadata": {
        "id": "hXC4oeH7GGdh"
      }
    },
    {
      "cell_type": "markdown",
      "source": [
        "(4) Wine 데이터 세트에서 alcohol 변수의 상위에서 20번째 값 alcohol을 오름차순 정렬했을 때 20번째에 위치한 값으로 상위 20개의 값을 변환한 후, proanthocyanins가 2 이하인 데이터를 추출하여 alcohol의 평균값을 계산하시오. (단, 최종 계산 값의 소수점 아래 3번째 자리에서 반올림한다.)"
      ],
      "metadata": {
        "id": "IeOIteUQGGXm"
      }
    },
    {
      "cell_type": "markdown",
      "source": [
        "(5) Wine 데이터 세트에서 class 1에 해당하는 데이터의 proline 변수의 제3사분위수와 제1사분위수 차를 구하고, class 2에 해당하는 데이터의 proline 변수의 제3사분위수와 제1사분위수 차를 구하여 두 값의 차이의 절댓값을 계산하시오."
      ],
      "metadata": {
        "id": "E_Zwlgf0GGQv"
      }
    },
    {
      "cell_type": "markdown",
      "source": [
        "## NBA Dataset"
      ],
      "metadata": {
        "id": "on9M9JV41qnh"
      }
    },
    {
      "cell_type": "markdown",
      "source": [
        "|변수|설명|\n",
        "|--|--|\n",
        "|Rk|순위 (Rank)|\n",
        "|Player|선수 이름 (Player's name)|\n",
        "|Pos|포지션 (Position)|\n",
        "|Age|나이 (Player's age)|\n",
        "|Tm|팀 (Team)|\n",
        "|G|경기 수 (Games played)|\n",
        "|GS|선발 경기 수 (Games started)|\n",
        "|MP|평균 경기 시간 (Minutes played per game)|\n",
        "|FG|평균 필드 골 성공 수 (Field goals per game)|\n",
        "|FGA|평균 필드 골 시도 수 (Field goal attempts per game)|\n",
        "|FG%|필드 골 성공률 (Field goal percentage)|\n",
        "|3P|평균 3점슛 성공 수 (3-point field goals per game)|\n",
        "|3PA|평균 3점슛 시도 수 (3-point field goal attempts per game)|\n",
        "|3P%|3점슛 성공률 (3-point field goal percentage)|\n",
        "|2P|평균 2점슛 성공 수 (2-point field goals per game)|\n",
        "|2PA|평균 2점슛 시도 수 (2-point field goal attempts per game)|\n",
        "|2P%|2점슛 성공률 (2-point field goal percentage)|\n",
        "|eFG%|유효 필드 골 성공률 (Effective field goal percentage)|\n",
        "|FT|평균 자유투 성공 수 (Free throws per game)|\n",
        "|FTA|평균 자유투 시도 수 (Free throw attempts per game)|\n",
        "|FT%|자유투 성공률 (Free throw percentage)|\n",
        "|ORB|평균 공격 리바운드 (Offensive rebounds per game)|\n",
        "|DRB|평균 수비 리바운드 (Defensive rebounds per game)|\n",
        "|TRB|평균 총 리바운드 (Total rebounds per game)|\n",
        "|AST|평균 어시스트 (Assists per game)|\n",
        "|STL|평균 스틸 (Steals per game)|\n",
        "|BLK|평균 블록 (Blocks per game)|\n",
        "|TOV|평균 턴오버 (Turnovers per game)|\n",
        "|PF|평균 개인 반칙 (Personal fouls per game)|\n",
        "|PTS|평균 득점 (Points per game)|\n"
      ],
      "metadata": {
        "id": "hULa1qrR1xvx"
      }
    },
    {
      "cell_type": "code",
      "source": [
        "nba = pd.read_csv('/content/drive/MyDrive/Colab Notebooks/dataset/nba.csv', encoding = 'latin', sep = ';')"
      ],
      "metadata": {
        "id": "bEDf3hVwVM1H"
      },
      "execution_count": null,
      "outputs": []
    },
    {
      "cell_type": "code",
      "source": [
        "nba.head()"
      ],
      "metadata": {
        "id": "f-Qnz_qK1nkP"
      },
      "execution_count": null,
      "outputs": []
    },
    {
      "cell_type": "markdown",
      "source": [
        "(1) Tm 컬럼은 각 팀의 이름을 의미한다. TOR팀의 평균나이를 소수 4째 자리까지 구하여라"
      ],
      "metadata": {
        "id": "tIXZSegm3bzu"
      }
    },
    {
      "cell_type": "markdown",
      "source": [
        "(2) Pos 컬럼은 포지션을 의미한다. 전체 선수 중 최소나이대의 선수들을 필터하고 그들 중 가장 많은 포지션은 무엇인지 확인하라"
      ],
      "metadata": {
        "id": "1z6rvivd6XV8"
      }
    },
    {
      "cell_type": "markdown",
      "source": [
        "(3) 선수들의 이름은 first_name+ 공백 + last_name으로 이루어져 있다. 가장 많은 first_name은 무엇이며 몇 회 발생하는지 확인하라"
      ],
      "metadata": {
        "id": "TpdHclmzLahj"
      }
    },
    {
      "cell_type": "markdown",
      "source": [
        "(4) PTS컬럼은 경기당 평균득점수 이다. 각포지션별로 경기당 평균득점수의 평균을 구하여라"
      ],
      "metadata": {
        "id": "lxrrDn2LNXpT"
      }
    },
    {
      "cell_type": "markdown",
      "source": [
        "(5) Tm의 값이 MIA이며 Pos는 C또는 PF인 선수의 MP값의 평균은?"
      ],
      "metadata": {
        "id": "BbaHNxTZQWPc"
      }
    }
  ]
}